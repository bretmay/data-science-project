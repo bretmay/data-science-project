{
  "nbformat": 4,
  "nbformat_minor": 0,
  "metadata": {
    "colab": {
      "provenance": [],
      "toc_visible": true,
      "gpuType": "V28",
      "authorship_tag": "ABX9TyNt8G4FCKqSHUnxUdQYHAYP",
      "include_colab_link": true
    },
    "kernelspec": {
      "name": "python3",
      "display_name": "Python 3"
    },
    "language_info": {
      "name": "python"
    },
    "accelerator": "TPU"
  },
  "cells": [
    {
      "cell_type": "markdown",
      "metadata": {
        "id": "view-in-github",
        "colab_type": "text"
      },
      "source": [
        "<a href=\"https://colab.research.google.com/github/bretmay/data-science-project/blob/main/datascience.ipynb\" target=\"_parent\"><img src=\"https://colab.research.google.com/assets/colab-badge.svg\" alt=\"Open In Colab\"/></a>"
      ]
    },
    {
      "cell_type": "markdown",
      "source": [
        "## Ingest"
      ],
      "metadata": {
        "id": "0-AlGX1j2Jh1"
      }
    },
    {
      "cell_type": "code",
      "source": [
        "MyCode"
      ],
      "metadata": {
        "id": "wiO8c_bv2Mwz"
      },
      "execution_count": null,
      "outputs": []
    },
    {
      "cell_type": "markdown",
      "source": [
        "## EDA"
      ],
      "metadata": {
        "id": "yvlLOmER2Opk"
      }
    },
    {
      "cell_type": "code",
      "source": [
        "MyCode"
      ],
      "metadata": {
        "id": "notJqjru2QRk"
      },
      "execution_count": null,
      "outputs": []
    },
    {
      "cell_type": "markdown",
      "source": [
        "## Modeling"
      ],
      "metadata": {
        "id": "MV_dJ1C32SYf"
      }
    },
    {
      "cell_type": "code",
      "source": [
        "MyCode"
      ],
      "metadata": {
        "id": "laM3ahiw2UWY"
      },
      "execution_count": null,
      "outputs": []
    },
    {
      "cell_type": "markdown",
      "source": [
        "## Conclusion"
      ],
      "metadata": {
        "id": "qZGcWFWl2WIZ"
      }
    },
    {
      "cell_type": "code",
      "source": [
        "MyCode"
      ],
      "metadata": {
        "id": "Li-p_Vxp2YKc"
      },
      "execution_count": null,
      "outputs": []
    }
  ]
}